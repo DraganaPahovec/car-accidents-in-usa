{
 "cells": [
  {
   "cell_type": "code",
   "execution_count": 2,
   "id": "bd7cd54f",
   "metadata": {},
   "outputs": [],
   "source": [
    "import pandas as pd\n",
    "\n",
    "accidents_df = pd.read_csv('US_Accidents_Dec19.csv')\n",
    "\n",
    "us_df = accidents_df[0:1000]\n",
    "\n",
    "us_df.to_csv('us_df_sampled.csv')"
   ]
  },
  {
   "cell_type": "code",
   "execution_count": 3,
   "id": "7491ba27-3837-43b2-8087-24263149f223",
   "metadata": {},
   "outputs": [
    {
     "data": {
      "text/html": [
       "<div>\n",
       "<style scoped>\n",
       "    .dataframe tbody tr th:only-of-type {\n",
       "        vertical-align: middle;\n",
       "    }\n",
       "\n",
       "    .dataframe tbody tr th {\n",
       "        vertical-align: top;\n",
       "    }\n",
       "\n",
       "    .dataframe thead th {\n",
       "        text-align: right;\n",
       "    }\n",
       "</style>\n",
       "<table border=\"1\" class=\"dataframe\">\n",
       "  <thead>\n",
       "    <tr style=\"text-align: right;\">\n",
       "      <th></th>\n",
       "      <th>ID</th>\n",
       "      <th>Source</th>\n",
       "      <th>TMC</th>\n",
       "      <th>Severity</th>\n",
       "      <th>Start_Time</th>\n",
       "      <th>End_Time</th>\n",
       "      <th>Start_Lat</th>\n",
       "      <th>Start_Lng</th>\n",
       "      <th>End_Lat</th>\n",
       "      <th>End_Lng</th>\n",
       "      <th>...</th>\n",
       "      <th>Roundabout</th>\n",
       "      <th>Station</th>\n",
       "      <th>Stop</th>\n",
       "      <th>Traffic_Calming</th>\n",
       "      <th>Traffic_Signal</th>\n",
       "      <th>Turning_Loop</th>\n",
       "      <th>Sunrise_Sunset</th>\n",
       "      <th>Civil_Twilight</th>\n",
       "      <th>Nautical_Twilight</th>\n",
       "      <th>Astronomical_Twilight</th>\n",
       "    </tr>\n",
       "  </thead>\n",
       "  <tbody>\n",
       "    <tr>\n",
       "      <th>0</th>\n",
       "      <td>A-1</td>\n",
       "      <td>MapQuest</td>\n",
       "      <td>201.0</td>\n",
       "      <td>3</td>\n",
       "      <td>2016-02-08 05:46:00</td>\n",
       "      <td>2016-02-08 11:00:00</td>\n",
       "      <td>39.865147</td>\n",
       "      <td>-84.058723</td>\n",
       "      <td>NaN</td>\n",
       "      <td>NaN</td>\n",
       "      <td>...</td>\n",
       "      <td>False</td>\n",
       "      <td>False</td>\n",
       "      <td>False</td>\n",
       "      <td>False</td>\n",
       "      <td>False</td>\n",
       "      <td>False</td>\n",
       "      <td>Night</td>\n",
       "      <td>Night</td>\n",
       "      <td>Night</td>\n",
       "      <td>Night</td>\n",
       "    </tr>\n",
       "    <tr>\n",
       "      <th>1</th>\n",
       "      <td>A-2</td>\n",
       "      <td>MapQuest</td>\n",
       "      <td>201.0</td>\n",
       "      <td>2</td>\n",
       "      <td>2016-02-08 06:07:59</td>\n",
       "      <td>2016-02-08 06:37:59</td>\n",
       "      <td>39.928059</td>\n",
       "      <td>-82.831184</td>\n",
       "      <td>NaN</td>\n",
       "      <td>NaN</td>\n",
       "      <td>...</td>\n",
       "      <td>False</td>\n",
       "      <td>False</td>\n",
       "      <td>False</td>\n",
       "      <td>False</td>\n",
       "      <td>False</td>\n",
       "      <td>False</td>\n",
       "      <td>Night</td>\n",
       "      <td>Night</td>\n",
       "      <td>Night</td>\n",
       "      <td>Day</td>\n",
       "    </tr>\n",
       "    <tr>\n",
       "      <th>2</th>\n",
       "      <td>A-3</td>\n",
       "      <td>MapQuest</td>\n",
       "      <td>201.0</td>\n",
       "      <td>2</td>\n",
       "      <td>2016-02-08 06:49:27</td>\n",
       "      <td>2016-02-08 07:19:27</td>\n",
       "      <td>39.063148</td>\n",
       "      <td>-84.032608</td>\n",
       "      <td>NaN</td>\n",
       "      <td>NaN</td>\n",
       "      <td>...</td>\n",
       "      <td>False</td>\n",
       "      <td>False</td>\n",
       "      <td>False</td>\n",
       "      <td>False</td>\n",
       "      <td>True</td>\n",
       "      <td>False</td>\n",
       "      <td>Night</td>\n",
       "      <td>Night</td>\n",
       "      <td>Day</td>\n",
       "      <td>Day</td>\n",
       "    </tr>\n",
       "    <tr>\n",
       "      <th>3</th>\n",
       "      <td>A-4</td>\n",
       "      <td>MapQuest</td>\n",
       "      <td>201.0</td>\n",
       "      <td>3</td>\n",
       "      <td>2016-02-08 07:23:34</td>\n",
       "      <td>2016-02-08 07:53:34</td>\n",
       "      <td>39.747753</td>\n",
       "      <td>-84.205582</td>\n",
       "      <td>NaN</td>\n",
       "      <td>NaN</td>\n",
       "      <td>...</td>\n",
       "      <td>False</td>\n",
       "      <td>False</td>\n",
       "      <td>False</td>\n",
       "      <td>False</td>\n",
       "      <td>False</td>\n",
       "      <td>False</td>\n",
       "      <td>Night</td>\n",
       "      <td>Day</td>\n",
       "      <td>Day</td>\n",
       "      <td>Day</td>\n",
       "    </tr>\n",
       "    <tr>\n",
       "      <th>4</th>\n",
       "      <td>A-5</td>\n",
       "      <td>MapQuest</td>\n",
       "      <td>201.0</td>\n",
       "      <td>2</td>\n",
       "      <td>2016-02-08 07:39:07</td>\n",
       "      <td>2016-02-08 08:09:07</td>\n",
       "      <td>39.627781</td>\n",
       "      <td>-84.188354</td>\n",
       "      <td>NaN</td>\n",
       "      <td>NaN</td>\n",
       "      <td>...</td>\n",
       "      <td>False</td>\n",
       "      <td>False</td>\n",
       "      <td>False</td>\n",
       "      <td>False</td>\n",
       "      <td>True</td>\n",
       "      <td>False</td>\n",
       "      <td>Day</td>\n",
       "      <td>Day</td>\n",
       "      <td>Day</td>\n",
       "      <td>Day</td>\n",
       "    </tr>\n",
       "    <tr>\n",
       "      <th>...</th>\n",
       "      <td>...</td>\n",
       "      <td>...</td>\n",
       "      <td>...</td>\n",
       "      <td>...</td>\n",
       "      <td>...</td>\n",
       "      <td>...</td>\n",
       "      <td>...</td>\n",
       "      <td>...</td>\n",
       "      <td>...</td>\n",
       "      <td>...</td>\n",
       "      <td>...</td>\n",
       "      <td>...</td>\n",
       "      <td>...</td>\n",
       "      <td>...</td>\n",
       "      <td>...</td>\n",
       "      <td>...</td>\n",
       "      <td>...</td>\n",
       "      <td>...</td>\n",
       "      <td>...</td>\n",
       "      <td>...</td>\n",
       "      <td>...</td>\n",
       "    </tr>\n",
       "    <tr>\n",
       "      <th>2974330</th>\n",
       "      <td>A-2974354</td>\n",
       "      <td>Bing</td>\n",
       "      <td>NaN</td>\n",
       "      <td>2</td>\n",
       "      <td>2019-08-23 18:03:25</td>\n",
       "      <td>2019-08-23 18:32:01</td>\n",
       "      <td>34.002480</td>\n",
       "      <td>-117.379360</td>\n",
       "      <td>33.99888</td>\n",
       "      <td>-117.37094</td>\n",
       "      <td>...</td>\n",
       "      <td>False</td>\n",
       "      <td>False</td>\n",
       "      <td>False</td>\n",
       "      <td>False</td>\n",
       "      <td>False</td>\n",
       "      <td>False</td>\n",
       "      <td>Day</td>\n",
       "      <td>Day</td>\n",
       "      <td>Day</td>\n",
       "      <td>Day</td>\n",
       "    </tr>\n",
       "    <tr>\n",
       "      <th>2974331</th>\n",
       "      <td>A-2974355</td>\n",
       "      <td>Bing</td>\n",
       "      <td>NaN</td>\n",
       "      <td>2</td>\n",
       "      <td>2019-08-23 19:11:30</td>\n",
       "      <td>2019-08-23 19:38:23</td>\n",
       "      <td>32.766960</td>\n",
       "      <td>-117.148060</td>\n",
       "      <td>32.76555</td>\n",
       "      <td>-117.15363</td>\n",
       "      <td>...</td>\n",
       "      <td>False</td>\n",
       "      <td>False</td>\n",
       "      <td>False</td>\n",
       "      <td>False</td>\n",
       "      <td>False</td>\n",
       "      <td>False</td>\n",
       "      <td>Day</td>\n",
       "      <td>Day</td>\n",
       "      <td>Day</td>\n",
       "      <td>Day</td>\n",
       "    </tr>\n",
       "    <tr>\n",
       "      <th>2974332</th>\n",
       "      <td>A-2974356</td>\n",
       "      <td>Bing</td>\n",
       "      <td>NaN</td>\n",
       "      <td>2</td>\n",
       "      <td>2019-08-23 19:00:21</td>\n",
       "      <td>2019-08-23 19:28:49</td>\n",
       "      <td>33.775450</td>\n",
       "      <td>-117.847790</td>\n",
       "      <td>33.77740</td>\n",
       "      <td>-117.85727</td>\n",
       "      <td>...</td>\n",
       "      <td>False</td>\n",
       "      <td>False</td>\n",
       "      <td>False</td>\n",
       "      <td>False</td>\n",
       "      <td>False</td>\n",
       "      <td>False</td>\n",
       "      <td>Day</td>\n",
       "      <td>Day</td>\n",
       "      <td>Day</td>\n",
       "      <td>Day</td>\n",
       "    </tr>\n",
       "    <tr>\n",
       "      <th>2974333</th>\n",
       "      <td>A-2974357</td>\n",
       "      <td>Bing</td>\n",
       "      <td>NaN</td>\n",
       "      <td>2</td>\n",
       "      <td>2019-08-23 19:00:21</td>\n",
       "      <td>2019-08-23 19:29:42</td>\n",
       "      <td>33.992460</td>\n",
       "      <td>-118.403020</td>\n",
       "      <td>33.98311</td>\n",
       "      <td>-118.39565</td>\n",
       "      <td>...</td>\n",
       "      <td>False</td>\n",
       "      <td>False</td>\n",
       "      <td>False</td>\n",
       "      <td>False</td>\n",
       "      <td>False</td>\n",
       "      <td>False</td>\n",
       "      <td>Day</td>\n",
       "      <td>Day</td>\n",
       "      <td>Day</td>\n",
       "      <td>Day</td>\n",
       "    </tr>\n",
       "    <tr>\n",
       "      <th>2974334</th>\n",
       "      <td>A-2974358</td>\n",
       "      <td>Bing</td>\n",
       "      <td>NaN</td>\n",
       "      <td>2</td>\n",
       "      <td>2019-08-23 18:52:06</td>\n",
       "      <td>2019-08-23 19:21:31</td>\n",
       "      <td>34.133930</td>\n",
       "      <td>-117.230920</td>\n",
       "      <td>34.13736</td>\n",
       "      <td>-117.23934</td>\n",
       "      <td>...</td>\n",
       "      <td>False</td>\n",
       "      <td>False</td>\n",
       "      <td>False</td>\n",
       "      <td>False</td>\n",
       "      <td>False</td>\n",
       "      <td>False</td>\n",
       "      <td>Day</td>\n",
       "      <td>Day</td>\n",
       "      <td>Day</td>\n",
       "      <td>Day</td>\n",
       "    </tr>\n",
       "  </tbody>\n",
       "</table>\n",
       "<p>2974335 rows × 49 columns</p>\n",
       "</div>"
      ],
      "text/plain": [
       "                ID    Source    TMC  Severity           Start_Time  \\\n",
       "0              A-1  MapQuest  201.0         3  2016-02-08 05:46:00   \n",
       "1              A-2  MapQuest  201.0         2  2016-02-08 06:07:59   \n",
       "2              A-3  MapQuest  201.0         2  2016-02-08 06:49:27   \n",
       "3              A-4  MapQuest  201.0         3  2016-02-08 07:23:34   \n",
       "4              A-5  MapQuest  201.0         2  2016-02-08 07:39:07   \n",
       "...            ...       ...    ...       ...                  ...   \n",
       "2974330  A-2974354      Bing    NaN         2  2019-08-23 18:03:25   \n",
       "2974331  A-2974355      Bing    NaN         2  2019-08-23 19:11:30   \n",
       "2974332  A-2974356      Bing    NaN         2  2019-08-23 19:00:21   \n",
       "2974333  A-2974357      Bing    NaN         2  2019-08-23 19:00:21   \n",
       "2974334  A-2974358      Bing    NaN         2  2019-08-23 18:52:06   \n",
       "\n",
       "                    End_Time  Start_Lat   Start_Lng   End_Lat    End_Lng  ...  \\\n",
       "0        2016-02-08 11:00:00  39.865147  -84.058723       NaN        NaN  ...   \n",
       "1        2016-02-08 06:37:59  39.928059  -82.831184       NaN        NaN  ...   \n",
       "2        2016-02-08 07:19:27  39.063148  -84.032608       NaN        NaN  ...   \n",
       "3        2016-02-08 07:53:34  39.747753  -84.205582       NaN        NaN  ...   \n",
       "4        2016-02-08 08:09:07  39.627781  -84.188354       NaN        NaN  ...   \n",
       "...                      ...        ...         ...       ...        ...  ...   \n",
       "2974330  2019-08-23 18:32:01  34.002480 -117.379360  33.99888 -117.37094  ...   \n",
       "2974331  2019-08-23 19:38:23  32.766960 -117.148060  32.76555 -117.15363  ...   \n",
       "2974332  2019-08-23 19:28:49  33.775450 -117.847790  33.77740 -117.85727  ...   \n",
       "2974333  2019-08-23 19:29:42  33.992460 -118.403020  33.98311 -118.39565  ...   \n",
       "2974334  2019-08-23 19:21:31  34.133930 -117.230920  34.13736 -117.23934  ...   \n",
       "\n",
       "         Roundabout Station   Stop Traffic_Calming Traffic_Signal  \\\n",
       "0             False   False  False           False          False   \n",
       "1             False   False  False           False          False   \n",
       "2             False   False  False           False           True   \n",
       "3             False   False  False           False          False   \n",
       "4             False   False  False           False           True   \n",
       "...             ...     ...    ...             ...            ...   \n",
       "2974330       False   False  False           False          False   \n",
       "2974331       False   False  False           False          False   \n",
       "2974332       False   False  False           False          False   \n",
       "2974333       False   False  False           False          False   \n",
       "2974334       False   False  False           False          False   \n",
       "\n",
       "        Turning_Loop Sunrise_Sunset Civil_Twilight Nautical_Twilight  \\\n",
       "0              False          Night          Night             Night   \n",
       "1              False          Night          Night             Night   \n",
       "2              False          Night          Night               Day   \n",
       "3              False          Night            Day               Day   \n",
       "4              False            Day            Day               Day   \n",
       "...              ...            ...            ...               ...   \n",
       "2974330        False            Day            Day               Day   \n",
       "2974331        False            Day            Day               Day   \n",
       "2974332        False            Day            Day               Day   \n",
       "2974333        False            Day            Day               Day   \n",
       "2974334        False            Day            Day               Day   \n",
       "\n",
       "        Astronomical_Twilight  \n",
       "0                       Night  \n",
       "1                         Day  \n",
       "2                         Day  \n",
       "3                         Day  \n",
       "4                         Day  \n",
       "...                       ...  \n",
       "2974330                   Day  \n",
       "2974331                   Day  \n",
       "2974332                   Day  \n",
       "2974333                   Day  \n",
       "2974334                   Day  \n",
       "\n",
       "[2974335 rows x 49 columns]"
      ]
     },
     "execution_count": 3,
     "metadata": {},
     "output_type": "execute_result"
    }
   ],
   "source": [
    "accidents_df"
   ]
  },
  {
   "cell_type": "code",
   "execution_count": 5,
   "id": "def1a33a-0ed3-422e-8042-6659b6956b13",
   "metadata": {},
   "outputs": [
    {
     "name": "stdout",
     "output_type": "stream",
     "text": [
      "Old data frame length: 2974335 \n",
      "New data frame length: 0 \n",
      "Number of rows with at least 1 NA value:  2974335\n"
     ]
    }
   ],
   "source": [
    "# making new data frame with dropped NA values\n",
    "new_data = accidents_df.dropna(axis = 0, how ='any')\n",
    "\n",
    "# comparing sizes of data frames\n",
    "print(\"Old data frame length:\", len(accidents_df), \"\\nNew data frame length:\", \n",
    "      len(new_data), \"\\nNumber of rows with at least 1 NA value: \", (len(accidents_df)-len(new_data)))"
   ]
  },
  {
   "cell_type": "code",
   "execution_count": 6,
   "id": "6c029e19-d94a-470d-bb15-7e7b861cb3e3",
   "metadata": {},
   "outputs": [
    {
     "name": "stdout",
     "output_type": "stream",
     "text": [
      "['TMC', 'End_Lat', 'End_Lng', 'Description', 'Number', 'City', 'Zipcode', 'Timezone', 'Airport_Code', 'Weather_Timestamp', 'Temperature(F)', 'Wind_Chill(F)', 'Humidity(%)', 'Pressure(in)', 'Visibility(mi)', 'Wind_Direction', 'Wind_Speed(mph)', 'Precipitation(in)', 'Weather_Condition', 'Sunrise_Sunset', 'Civil_Twilight', 'Nautical_Twilight', 'Astronomical_Twilight']\n"
     ]
    }
   ],
   "source": [
    "# checking which column contains at least one nan value\n",
    "nan_cols = [i for i in accidents_df.columns if accidents_df[i].isnull().any()]\n",
    "print (nan_cols)"
   ]
  },
  {
   "cell_type": "code",
   "execution_count": 7,
   "id": "416729eb-e8cb-4f80-9dcd-687a67f1cfbc",
   "metadata": {},
   "outputs": [
    {
     "name": "stdout",
     "output_type": "stream",
     "text": [
      "['End_Lat', 'End_Lng', 'Number', 'Wind_Chill(F)', 'Precipitation(in)']\n"
     ]
    }
   ],
   "source": [
    "# which columns have more than a 50% of nan values\n",
    "nan_cols50 = [i for i in accidents_df.columns if accidents_df[i].isnull().sum() > 0.50*len(accidents_df)]\n",
    "print (nan_cols50)"
   ]
  },
  {
   "cell_type": "code",
   "execution_count": 8,
   "id": "74137acf-df5f-4026-8e78-c2fd5486f5c0",
   "metadata": {},
   "outputs": [
    {
     "name": "stdout",
     "output_type": "stream",
     "text": [
      "End_Lng                  75.521554\n",
      "End_Lat                  75.521554\n",
      "Precipitation(in)        67.186716\n",
      "Number                   64.471722\n",
      "Wind_Chill(F)            62.286965\n",
      "TMC                      24.478446\n",
      "Wind_Speed(mph)          14.821464\n",
      "Weather_Condition         2.216697\n",
      "Visibility(mi)            2.208595\n",
      "Humidity(%)               1.989453\n",
      "Temperature(F)            1.884892\n",
      "Pressure(in)              1.618580\n",
      "Wind_Direction            1.516339\n",
      "Weather_Timestamp         1.234057\n",
      "Airport_Code              0.191337\n",
      "Timezone                  0.106343\n",
      "Zipcode                   0.029586\n",
      "Sunrise_Sunset            0.003127\n",
      "Civil_Twilight            0.003127\n",
      "Nautical_Twilight         0.003127\n",
      "Astronomical_Twilight     0.003127\n",
      "City                      0.002791\n",
      "Description               0.000034\n",
      "Country                   0.000000\n",
      "Junction                  0.000000\n",
      "Severity                  0.000000\n",
      "Start_Time                0.000000\n",
      "End_Time                  0.000000\n",
      "Turning_Loop              0.000000\n",
      "Traffic_Signal            0.000000\n",
      "Traffic_Calming           0.000000\n",
      "Stop                      0.000000\n",
      "Station                   0.000000\n",
      "Roundabout                0.000000\n",
      "Railway                   0.000000\n",
      "No_Exit                   0.000000\n",
      "Give_Way                  0.000000\n",
      "State                     0.000000\n",
      "Crossing                  0.000000\n",
      "Bump                      0.000000\n",
      "Amenity                   0.000000\n",
      "Start_Lat                 0.000000\n",
      "Start_Lng                 0.000000\n",
      "Distance(mi)              0.000000\n",
      "Street                    0.000000\n",
      "Side                      0.000000\n",
      "Source                    0.000000\n",
      "County                    0.000000\n",
      "ID                        0.000000\n",
      "dtype: float64\n"
     ]
    }
   ],
   "source": [
    "# view by columns\n",
    "percent_missing = accidents_df.isnull().sum() * 100 / len(accidents_df)\n",
    "print (percent_missing.sort_values(ascending = False))"
   ]
  },
  {
   "cell_type": "code",
   "execution_count": 9,
   "id": "13c367a5-1456-4679-9948-e9361fe9e65e",
   "metadata": {},
   "outputs": [
    {
     "data": {
      "text/plain": [
       "49"
      ]
     },
     "execution_count": 9,
     "metadata": {},
     "output_type": "execute_result"
    }
   ],
   "source": [
    "# how many columns are there in the data frame\n",
    "col_count = accidents_df.shape[1]\n",
    "col_count"
   ]
  },
  {
   "cell_type": "code",
   "execution_count": 10,
   "id": "bfe6cf22-0db8-4c45-8ab5-ef5970b61494",
   "metadata": {},
   "outputs": [],
   "source": [
    "# removing completely all columns with more than 50% nan rows\n",
    "accidents_df.drop(nan_cols50, inplace=True, axis=1)"
   ]
  },
  {
   "cell_type": "code",
   "execution_count": 11,
   "id": "6d4b1c8b-a537-4d35-b07e-ae98b2d3e98d",
   "metadata": {},
   "outputs": [
    {
     "data": {
      "text/plain": [
       "44"
      ]
     },
     "execution_count": 11,
     "metadata": {},
     "output_type": "execute_result"
    }
   ],
   "source": [
    "# count data frame columns after removing\n",
    "col_count = accidents_df.shape[1]\n",
    "col_count"
   ]
  },
  {
   "cell_type": "code",
   "execution_count": 12,
   "id": "fde94bde-7759-4860-b227-d800fa960509",
   "metadata": {},
   "outputs": [
    {
     "name": "stdout",
     "output_type": "stream",
     "text": [
      "Old data frame length: 2974335 \n",
      "New data frame length: 1886978 \n",
      "Number of rows with at least 1 NA value:  1087357\n"
     ]
    }
   ],
   "source": [
    "# making new data frame with dropped NA values\n",
    "new_df = accidents_df.dropna(axis = 0, how ='any')\n",
    "\n",
    "# comparing sizes of data frames\n",
    "print(\"Old data frame length:\", len(accidents_df), \"\\nNew data frame length:\", \n",
    "      len(new_df), \"\\nNumber of rows with at least 1 NA value: \", (len(accidents_df)-len(new_df)))"
   ]
  },
  {
   "cell_type": "code",
   "execution_count": 13,
   "id": "8da6e68f-b469-4836-9769-2667d7cc3710",
   "metadata": {},
   "outputs": [
    {
     "name": "stdout",
     "output_type": "stream",
     "text": [
      "<class 'pandas.core.frame.DataFrame'>\n",
      "RangeIndex: 2974335 entries, 0 to 2974334\n",
      "Data columns (total 44 columns):\n",
      " #   Column                 Dtype  \n",
      "---  ------                 -----  \n",
      " 0   ID                     object \n",
      " 1   Source                 object \n",
      " 2   TMC                    float64\n",
      " 3   Severity               int64  \n",
      " 4   Start_Time             object \n",
      " 5   End_Time               object \n",
      " 6   Start_Lat              float64\n",
      " 7   Start_Lng              float64\n",
      " 8   Distance(mi)           float64\n",
      " 9   Description            object \n",
      " 10  Street                 object \n",
      " 11  Side                   object \n",
      " 12  City                   object \n",
      " 13  County                 object \n",
      " 14  State                  object \n",
      " 15  Zipcode                object \n",
      " 16  Country                object \n",
      " 17  Timezone               object \n",
      " 18  Airport_Code           object \n",
      " 19  Weather_Timestamp      object \n",
      " 20  Temperature(F)         float64\n",
      " 21  Humidity(%)            float64\n",
      " 22  Pressure(in)           float64\n",
      " 23  Visibility(mi)         float64\n",
      " 24  Wind_Direction         object \n",
      " 25  Wind_Speed(mph)        float64\n",
      " 26  Weather_Condition      object \n",
      " 27  Amenity                bool   \n",
      " 28  Bump                   bool   \n",
      " 29  Crossing               bool   \n",
      " 30  Give_Way               bool   \n",
      " 31  Junction               bool   \n",
      " 32  No_Exit                bool   \n",
      " 33  Railway                bool   \n",
      " 34  Roundabout             bool   \n",
      " 35  Station                bool   \n",
      " 36  Stop                   bool   \n",
      " 37  Traffic_Calming        bool   \n",
      " 38  Traffic_Signal         bool   \n",
      " 39  Turning_Loop           bool   \n",
      " 40  Sunrise_Sunset         object \n",
      " 41  Civil_Twilight         object \n",
      " 42  Nautical_Twilight      object \n",
      " 43  Astronomical_Twilight  object \n",
      "dtypes: bool(13), float64(9), int64(1), object(21)\n",
      "memory usage: 740.3+ MB\n"
     ]
    }
   ],
   "source": [
    "accidents_df.info()"
   ]
  },
  {
   "cell_type": "code",
   "execution_count": 14,
   "id": "99ad7fba-e54c-4d5e-9aab-21cecfe0c6c0",
   "metadata": {},
   "outputs": [
    {
     "data": {
      "text/html": [
       "<div>\n",
       "<style scoped>\n",
       "    .dataframe tbody tr th:only-of-type {\n",
       "        vertical-align: middle;\n",
       "    }\n",
       "\n",
       "    .dataframe tbody tr th {\n",
       "        vertical-align: top;\n",
       "    }\n",
       "\n",
       "    .dataframe thead th {\n",
       "        text-align: right;\n",
       "    }\n",
       "</style>\n",
       "<table border=\"1\" class=\"dataframe\">\n",
       "  <thead>\n",
       "    <tr style=\"text-align: right;\">\n",
       "      <th></th>\n",
       "      <th>ID</th>\n",
       "      <th>Source</th>\n",
       "      <th>TMC</th>\n",
       "      <th>Severity</th>\n",
       "      <th>Start_Time</th>\n",
       "      <th>End_Time</th>\n",
       "      <th>Start_Lat</th>\n",
       "      <th>Start_Lng</th>\n",
       "      <th>Distance(mi)</th>\n",
       "      <th>Description</th>\n",
       "      <th>...</th>\n",
       "      <th>Roundabout</th>\n",
       "      <th>Station</th>\n",
       "      <th>Stop</th>\n",
       "      <th>Traffic_Calming</th>\n",
       "      <th>Traffic_Signal</th>\n",
       "      <th>Turning_Loop</th>\n",
       "      <th>Sunrise_Sunset</th>\n",
       "      <th>Civil_Twilight</th>\n",
       "      <th>Nautical_Twilight</th>\n",
       "      <th>Astronomical_Twilight</th>\n",
       "    </tr>\n",
       "  </thead>\n",
       "  <tbody>\n",
       "    <tr>\n",
       "      <th>0</th>\n",
       "      <td>A-1</td>\n",
       "      <td>MapQuest</td>\n",
       "      <td>201.0</td>\n",
       "      <td>3</td>\n",
       "      <td>2016-02-08 05:46:00</td>\n",
       "      <td>2016-02-08 11:00:00</td>\n",
       "      <td>39.865147</td>\n",
       "      <td>-84.058723</td>\n",
       "      <td>0.01</td>\n",
       "      <td>Right lane blocked due to accident on I-70 Eas...</td>\n",
       "      <td>...</td>\n",
       "      <td>False</td>\n",
       "      <td>False</td>\n",
       "      <td>False</td>\n",
       "      <td>False</td>\n",
       "      <td>False</td>\n",
       "      <td>False</td>\n",
       "      <td>Night</td>\n",
       "      <td>Night</td>\n",
       "      <td>Night</td>\n",
       "      <td>Night</td>\n",
       "    </tr>\n",
       "    <tr>\n",
       "      <th>1</th>\n",
       "      <td>A-2</td>\n",
       "      <td>MapQuest</td>\n",
       "      <td>201.0</td>\n",
       "      <td>2</td>\n",
       "      <td>2016-02-08 06:07:59</td>\n",
       "      <td>2016-02-08 06:37:59</td>\n",
       "      <td>39.928059</td>\n",
       "      <td>-82.831184</td>\n",
       "      <td>0.01</td>\n",
       "      <td>Accident on Brice Rd at Tussing Rd. Expect del...</td>\n",
       "      <td>...</td>\n",
       "      <td>False</td>\n",
       "      <td>False</td>\n",
       "      <td>False</td>\n",
       "      <td>False</td>\n",
       "      <td>False</td>\n",
       "      <td>False</td>\n",
       "      <td>Night</td>\n",
       "      <td>Night</td>\n",
       "      <td>Night</td>\n",
       "      <td>Day</td>\n",
       "    </tr>\n",
       "    <tr>\n",
       "      <th>2</th>\n",
       "      <td>A-3</td>\n",
       "      <td>MapQuest</td>\n",
       "      <td>201.0</td>\n",
       "      <td>2</td>\n",
       "      <td>2016-02-08 06:49:27</td>\n",
       "      <td>2016-02-08 07:19:27</td>\n",
       "      <td>39.063148</td>\n",
       "      <td>-84.032608</td>\n",
       "      <td>0.01</td>\n",
       "      <td>Accident on OH-32 State Route 32 Westbound at ...</td>\n",
       "      <td>...</td>\n",
       "      <td>False</td>\n",
       "      <td>False</td>\n",
       "      <td>False</td>\n",
       "      <td>False</td>\n",
       "      <td>True</td>\n",
       "      <td>False</td>\n",
       "      <td>Night</td>\n",
       "      <td>Night</td>\n",
       "      <td>Day</td>\n",
       "      <td>Day</td>\n",
       "    </tr>\n",
       "    <tr>\n",
       "      <th>3</th>\n",
       "      <td>A-4</td>\n",
       "      <td>MapQuest</td>\n",
       "      <td>201.0</td>\n",
       "      <td>3</td>\n",
       "      <td>2016-02-08 07:23:34</td>\n",
       "      <td>2016-02-08 07:53:34</td>\n",
       "      <td>39.747753</td>\n",
       "      <td>-84.205582</td>\n",
       "      <td>0.01</td>\n",
       "      <td>Accident on I-75 Southbound at Exits 52 52B US...</td>\n",
       "      <td>...</td>\n",
       "      <td>False</td>\n",
       "      <td>False</td>\n",
       "      <td>False</td>\n",
       "      <td>False</td>\n",
       "      <td>False</td>\n",
       "      <td>False</td>\n",
       "      <td>Night</td>\n",
       "      <td>Day</td>\n",
       "      <td>Day</td>\n",
       "      <td>Day</td>\n",
       "    </tr>\n",
       "    <tr>\n",
       "      <th>4</th>\n",
       "      <td>A-5</td>\n",
       "      <td>MapQuest</td>\n",
       "      <td>201.0</td>\n",
       "      <td>2</td>\n",
       "      <td>2016-02-08 07:39:07</td>\n",
       "      <td>2016-02-08 08:09:07</td>\n",
       "      <td>39.627781</td>\n",
       "      <td>-84.188354</td>\n",
       "      <td>0.01</td>\n",
       "      <td>Accident on McEwen Rd at OH-725 Miamisburg Cen...</td>\n",
       "      <td>...</td>\n",
       "      <td>False</td>\n",
       "      <td>False</td>\n",
       "      <td>False</td>\n",
       "      <td>False</td>\n",
       "      <td>True</td>\n",
       "      <td>False</td>\n",
       "      <td>Day</td>\n",
       "      <td>Day</td>\n",
       "      <td>Day</td>\n",
       "      <td>Day</td>\n",
       "    </tr>\n",
       "    <tr>\n",
       "      <th>...</th>\n",
       "      <td>...</td>\n",
       "      <td>...</td>\n",
       "      <td>...</td>\n",
       "      <td>...</td>\n",
       "      <td>...</td>\n",
       "      <td>...</td>\n",
       "      <td>...</td>\n",
       "      <td>...</td>\n",
       "      <td>...</td>\n",
       "      <td>...</td>\n",
       "      <td>...</td>\n",
       "      <td>...</td>\n",
       "      <td>...</td>\n",
       "      <td>...</td>\n",
       "      <td>...</td>\n",
       "      <td>...</td>\n",
       "      <td>...</td>\n",
       "      <td>...</td>\n",
       "      <td>...</td>\n",
       "      <td>...</td>\n",
       "      <td>...</td>\n",
       "    </tr>\n",
       "    <tr>\n",
       "      <th>995</th>\n",
       "      <td>A-996</td>\n",
       "      <td>MapQuest</td>\n",
       "      <td>201.0</td>\n",
       "      <td>2</td>\n",
       "      <td>2016-06-23 10:31:07</td>\n",
       "      <td>2016-06-23 11:01:07</td>\n",
       "      <td>38.022778</td>\n",
       "      <td>-121.965698</td>\n",
       "      <td>0.00</td>\n",
       "      <td>#4 lane blocked due to accident on CA-4 Westbo...</td>\n",
       "      <td>...</td>\n",
       "      <td>False</td>\n",
       "      <td>False</td>\n",
       "      <td>False</td>\n",
       "      <td>False</td>\n",
       "      <td>False</td>\n",
       "      <td>False</td>\n",
       "      <td>Day</td>\n",
       "      <td>Day</td>\n",
       "      <td>Day</td>\n",
       "      <td>Day</td>\n",
       "    </tr>\n",
       "    <tr>\n",
       "      <th>996</th>\n",
       "      <td>A-997</td>\n",
       "      <td>MapQuest</td>\n",
       "      <td>201.0</td>\n",
       "      <td>3</td>\n",
       "      <td>2016-06-23 10:22:09</td>\n",
       "      <td>2016-06-23 10:52:09</td>\n",
       "      <td>37.656654</td>\n",
       "      <td>-121.901588</td>\n",
       "      <td>0.00</td>\n",
       "      <td>Right hand shoulder blocked due to accident on...</td>\n",
       "      <td>...</td>\n",
       "      <td>False</td>\n",
       "      <td>False</td>\n",
       "      <td>False</td>\n",
       "      <td>False</td>\n",
       "      <td>False</td>\n",
       "      <td>False</td>\n",
       "      <td>Day</td>\n",
       "      <td>Day</td>\n",
       "      <td>Day</td>\n",
       "      <td>Day</td>\n",
       "    </tr>\n",
       "    <tr>\n",
       "      <th>997</th>\n",
       "      <td>A-998</td>\n",
       "      <td>MapQuest</td>\n",
       "      <td>201.0</td>\n",
       "      <td>2</td>\n",
       "      <td>2016-06-23 10:31:51</td>\n",
       "      <td>2016-06-23 11:46:51</td>\n",
       "      <td>38.690273</td>\n",
       "      <td>-121.392136</td>\n",
       "      <td>0.00</td>\n",
       "      <td>Accident on County Hwy-E14 Elkhorn Blvd at 32n...</td>\n",
       "      <td>...</td>\n",
       "      <td>False</td>\n",
       "      <td>False</td>\n",
       "      <td>False</td>\n",
       "      <td>False</td>\n",
       "      <td>False</td>\n",
       "      <td>False</td>\n",
       "      <td>Day</td>\n",
       "      <td>Day</td>\n",
       "      <td>Day</td>\n",
       "      <td>Day</td>\n",
       "    </tr>\n",
       "    <tr>\n",
       "      <th>998</th>\n",
       "      <td>A-999</td>\n",
       "      <td>MapQuest</td>\n",
       "      <td>201.0</td>\n",
       "      <td>2</td>\n",
       "      <td>2016-06-23 10:32:51</td>\n",
       "      <td>2016-06-23 11:47:51</td>\n",
       "      <td>38.681110</td>\n",
       "      <td>-121.333244</td>\n",
       "      <td>0.00</td>\n",
       "      <td>Accident on County Hwy-E14 Greenback Ln at Gar...</td>\n",
       "      <td>...</td>\n",
       "      <td>False</td>\n",
       "      <td>False</td>\n",
       "      <td>False</td>\n",
       "      <td>False</td>\n",
       "      <td>True</td>\n",
       "      <td>False</td>\n",
       "      <td>Day</td>\n",
       "      <td>Day</td>\n",
       "      <td>Day</td>\n",
       "      <td>Day</td>\n",
       "    </tr>\n",
       "    <tr>\n",
       "      <th>999</th>\n",
       "      <td>A-1000</td>\n",
       "      <td>MapQuest</td>\n",
       "      <td>201.0</td>\n",
       "      <td>2</td>\n",
       "      <td>2016-06-23 10:31:12</td>\n",
       "      <td>2016-06-23 11:01:12</td>\n",
       "      <td>38.653061</td>\n",
       "      <td>-121.070541</td>\n",
       "      <td>0.00</td>\n",
       "      <td>Accident on US-50 Westbound near Exits 30 30A ...</td>\n",
       "      <td>...</td>\n",
       "      <td>False</td>\n",
       "      <td>False</td>\n",
       "      <td>False</td>\n",
       "      <td>False</td>\n",
       "      <td>False</td>\n",
       "      <td>False</td>\n",
       "      <td>Day</td>\n",
       "      <td>Day</td>\n",
       "      <td>Day</td>\n",
       "      <td>Day</td>\n",
       "    </tr>\n",
       "  </tbody>\n",
       "</table>\n",
       "<p>1000 rows × 44 columns</p>\n",
       "</div>"
      ],
      "text/plain": [
       "         ID    Source    TMC  Severity           Start_Time  \\\n",
       "0       A-1  MapQuest  201.0         3  2016-02-08 05:46:00   \n",
       "1       A-2  MapQuest  201.0         2  2016-02-08 06:07:59   \n",
       "2       A-3  MapQuest  201.0         2  2016-02-08 06:49:27   \n",
       "3       A-4  MapQuest  201.0         3  2016-02-08 07:23:34   \n",
       "4       A-5  MapQuest  201.0         2  2016-02-08 07:39:07   \n",
       "..      ...       ...    ...       ...                  ...   \n",
       "995   A-996  MapQuest  201.0         2  2016-06-23 10:31:07   \n",
       "996   A-997  MapQuest  201.0         3  2016-06-23 10:22:09   \n",
       "997   A-998  MapQuest  201.0         2  2016-06-23 10:31:51   \n",
       "998   A-999  MapQuest  201.0         2  2016-06-23 10:32:51   \n",
       "999  A-1000  MapQuest  201.0         2  2016-06-23 10:31:12   \n",
       "\n",
       "                End_Time  Start_Lat   Start_Lng  Distance(mi)  \\\n",
       "0    2016-02-08 11:00:00  39.865147  -84.058723          0.01   \n",
       "1    2016-02-08 06:37:59  39.928059  -82.831184          0.01   \n",
       "2    2016-02-08 07:19:27  39.063148  -84.032608          0.01   \n",
       "3    2016-02-08 07:53:34  39.747753  -84.205582          0.01   \n",
       "4    2016-02-08 08:09:07  39.627781  -84.188354          0.01   \n",
       "..                   ...        ...         ...           ...   \n",
       "995  2016-06-23 11:01:07  38.022778 -121.965698          0.00   \n",
       "996  2016-06-23 10:52:09  37.656654 -121.901588          0.00   \n",
       "997  2016-06-23 11:46:51  38.690273 -121.392136          0.00   \n",
       "998  2016-06-23 11:47:51  38.681110 -121.333244          0.00   \n",
       "999  2016-06-23 11:01:12  38.653061 -121.070541          0.00   \n",
       "\n",
       "                                           Description  ... Roundabout  \\\n",
       "0    Right lane blocked due to accident on I-70 Eas...  ...      False   \n",
       "1    Accident on Brice Rd at Tussing Rd. Expect del...  ...      False   \n",
       "2    Accident on OH-32 State Route 32 Westbound at ...  ...      False   \n",
       "3    Accident on I-75 Southbound at Exits 52 52B US...  ...      False   \n",
       "4    Accident on McEwen Rd at OH-725 Miamisburg Cen...  ...      False   \n",
       "..                                                 ...  ...        ...   \n",
       "995  #4 lane blocked due to accident on CA-4 Westbo...  ...      False   \n",
       "996  Right hand shoulder blocked due to accident on...  ...      False   \n",
       "997  Accident on County Hwy-E14 Elkhorn Blvd at 32n...  ...      False   \n",
       "998  Accident on County Hwy-E14 Greenback Ln at Gar...  ...      False   \n",
       "999  Accident on US-50 Westbound near Exits 30 30A ...  ...      False   \n",
       "\n",
       "    Station   Stop Traffic_Calming Traffic_Signal Turning_Loop Sunrise_Sunset  \\\n",
       "0     False  False           False          False        False          Night   \n",
       "1     False  False           False          False        False          Night   \n",
       "2     False  False           False           True        False          Night   \n",
       "3     False  False           False          False        False          Night   \n",
       "4     False  False           False           True        False            Day   \n",
       "..      ...    ...             ...            ...          ...            ...   \n",
       "995   False  False           False          False        False            Day   \n",
       "996   False  False           False          False        False            Day   \n",
       "997   False  False           False          False        False            Day   \n",
       "998   False  False           False           True        False            Day   \n",
       "999   False  False           False          False        False            Day   \n",
       "\n",
       "    Civil_Twilight Nautical_Twilight Astronomical_Twilight  \n",
       "0            Night             Night                 Night  \n",
       "1            Night             Night                   Day  \n",
       "2            Night               Day                   Day  \n",
       "3              Day               Day                   Day  \n",
       "4              Day               Day                   Day  \n",
       "..             ...               ...                   ...  \n",
       "995            Day               Day                   Day  \n",
       "996            Day               Day                   Day  \n",
       "997            Day               Day                   Day  \n",
       "998            Day               Day                   Day  \n",
       "999            Day               Day                   Day  \n",
       "\n",
       "[1000 rows x 44 columns]"
      ]
     },
     "execution_count": 14,
     "metadata": {},
     "output_type": "execute_result"
    }
   ],
   "source": [
    "us_df = accidents_df[0:1000]\n",
    "us_df"
   ]
  },
  {
   "cell_type": "code",
   "execution_count": 15,
   "id": "aa6fe22f-e961-4859-b552-8f3d7a4fe109",
   "metadata": {},
   "outputs": [
    {
     "data": {
      "text/plain": [
       "CA    663204\n",
       "Name: State, dtype: int64"
      ]
     },
     "execution_count": 15,
     "metadata": {},
     "output_type": "execute_result"
    }
   ],
   "source": [
    "# Find the state that has the most accidents\n",
    "states_by_accident = accidents_df.State.value_counts()\n",
    "states_by_accident[:1]"
   ]
  },
  {
   "cell_type": "code",
   "execution_count": 16,
   "id": "8663e535",
   "metadata": {},
   "outputs": [
    {
     "data": {
      "text/plain": [
       "State\n",
       "FL    7422\n",
       "Name: Severity, dtype: int64"
      ]
     },
     "execution_count": 16,
     "metadata": {},
     "output_type": "execute_result"
    }
   ],
   "source": [
    "# Find the state that has the most number of most severe accidents\n",
    "accidents_df[accidents_df['Severity'] == 4].groupby(['State'])['Severity'].count().sort_values(ascending=False)[0:1]"
   ]
  },
  {
   "cell_type": "code",
   "execution_count": 17,
   "id": "54b87054-7d27-4c16-a226-9b1087d4b64f",
   "metadata": {},
   "outputs": [],
   "source": [
    "accidents_df['Start_Time'] = pd.to_datetime(accidents_df['Start_Time'], errors='coerce')"
   ]
  },
  {
   "cell_type": "code",
   "execution_count": 18,
   "id": "38b9de32-0cd3-40e1-891b-bda85f5181a3",
   "metadata": {},
   "outputs": [
    {
     "name": "stdout",
     "output_type": "stream",
     "text": [
      "All hours and accidents: 8     284274\n",
      "7     273506\n",
      "17    221641\n",
      "16    212576\n",
      "15    177655\n",
      "9     177468\n",
      "6     169079\n",
      "18    167411\n",
      "10    157867\n",
      "11    155330\n",
      "14    150242\n",
      "13    142027\n",
      "12    139166\n",
      "19    115413\n",
      "5      83866\n",
      "20     81733\n",
      "21     57739\n",
      "4      53594\n",
      "22     48299\n",
      "23     26716\n",
      "0      23189\n",
      "2      18944\n",
      "3      18600\n",
      "1      18000\n",
      "Name: Start_Time, dtype: int64\n",
      "The most common hour for accidient is at: 8 o'clock\n"
     ]
    }
   ],
   "source": [
    "#Find the most common hour at which accidents have occurred\n",
    "import datetime as dt\n",
    "#accidents_df.Start_Time\n",
    "#accidents_df['Start_Time'].dt.hour\n",
    "print(\"All hours and accidents:\", accidents_df['Start_Time'].dt.hour.value_counts())\n",
    "print(\"The most common hour for accidient is at:\",accidents_df['Start_Time'].dt.hour.value_counts().idxmax(), \"o'clock\")"
   ]
  },
  {
   "cell_type": "code",
   "execution_count": 19,
   "id": "97af1d4e-b44c-438e-8051-a787dfdac75e",
   "metadata": {},
   "outputs": [],
   "source": [
    "accidents_df['Start_Time'] = pd.to_datetime(accidents_df['Start_Time'], errors='coerce')\n",
    "accidents_df['End_Time'] = pd.to_datetime(accidents_df['End_Time'], errors='coerce')"
   ]
  },
  {
   "cell_type": "code",
   "execution_count": 38,
   "id": "dd432d33-b94c-4832-af86-5772521526e3",
   "metadata": {},
   "outputs": [
    {
     "name": "stdout",
     "output_type": "stream",
     "text": [
      "The average duration of an accident is: 0.8395426204512937 hours\n"
     ]
    }
   ],
   "source": [
    "#Find the average duration of an accident\n",
    "import datetime as dt\n",
    "accidents_df['End_Time'].dt.hour.mean() - accidents_df['Start_Time'].dt.hour.mean()\n",
    "print(\"The average duration of an accident is:\",accidents_df['End_Time'].dt.hour.mean() - accidents_df['Start_Time'].dt.hour.mean(),'hours')"
   ]
  },
  {
   "cell_type": "code",
   "execution_count": 133,
   "id": "2f998781-b871-45f6-89a6-dac2d489ec7a",
   "metadata": {},
   "outputs": [
    {
     "data": {
      "text/html": [
       "<div>\n",
       "<style scoped>\n",
       "    .dataframe tbody tr th:only-of-type {\n",
       "        vertical-align: middle;\n",
       "    }\n",
       "\n",
       "    .dataframe tbody tr th {\n",
       "        vertical-align: top;\n",
       "    }\n",
       "\n",
       "    .dataframe thead th {\n",
       "        text-align: right;\n",
       "    }\n",
       "</style>\n",
       "<table border=\"1\" class=\"dataframe\">\n",
       "  <thead>\n",
       "    <tr style=\"text-align: right;\">\n",
       "      <th></th>\n",
       "      <th>ID</th>\n",
       "      <th>Source</th>\n",
       "      <th>TMC</th>\n",
       "      <th>Severity</th>\n",
       "      <th>Start_Time</th>\n",
       "      <th>End_Time</th>\n",
       "      <th>Start_Lat</th>\n",
       "      <th>Start_Lng</th>\n",
       "      <th>Distance(mi)</th>\n",
       "      <th>Description</th>\n",
       "      <th>...</th>\n",
       "      <th>Station</th>\n",
       "      <th>Stop</th>\n",
       "      <th>Traffic_Calming</th>\n",
       "      <th>Traffic_Signal</th>\n",
       "      <th>Turning_Loop</th>\n",
       "      <th>Sunrise_Sunset</th>\n",
       "      <th>Civil_Twilight</th>\n",
       "      <th>Nautical_Twilight</th>\n",
       "      <th>Astronomical_Twilight</th>\n",
       "      <th>Year</th>\n",
       "    </tr>\n",
       "  </thead>\n",
       "  <tbody>\n",
       "    <tr>\n",
       "      <th>0</th>\n",
       "      <td>A-1</td>\n",
       "      <td>MapQuest</td>\n",
       "      <td>201.0</td>\n",
       "      <td>3</td>\n",
       "      <td>2016-02-08 05:46:00</td>\n",
       "      <td>2016-02-08 11:00:00</td>\n",
       "      <td>39.865147</td>\n",
       "      <td>-84.058723</td>\n",
       "      <td>0.010</td>\n",
       "      <td>Right lane blocked due to accident on I-70 Eas...</td>\n",
       "      <td>...</td>\n",
       "      <td>False</td>\n",
       "      <td>False</td>\n",
       "      <td>False</td>\n",
       "      <td>False</td>\n",
       "      <td>False</td>\n",
       "      <td>Night</td>\n",
       "      <td>Night</td>\n",
       "      <td>Night</td>\n",
       "      <td>Night</td>\n",
       "      <td>2016</td>\n",
       "    </tr>\n",
       "    <tr>\n",
       "      <th>1</th>\n",
       "      <td>A-2</td>\n",
       "      <td>MapQuest</td>\n",
       "      <td>201.0</td>\n",
       "      <td>2</td>\n",
       "      <td>2016-02-08 06:07:59</td>\n",
       "      <td>2016-02-08 06:37:59</td>\n",
       "      <td>39.928059</td>\n",
       "      <td>-82.831184</td>\n",
       "      <td>0.010</td>\n",
       "      <td>Accident on Brice Rd at Tussing Rd. Expect del...</td>\n",
       "      <td>...</td>\n",
       "      <td>False</td>\n",
       "      <td>False</td>\n",
       "      <td>False</td>\n",
       "      <td>False</td>\n",
       "      <td>False</td>\n",
       "      <td>Night</td>\n",
       "      <td>Night</td>\n",
       "      <td>Night</td>\n",
       "      <td>Day</td>\n",
       "      <td>2016</td>\n",
       "    </tr>\n",
       "    <tr>\n",
       "      <th>2</th>\n",
       "      <td>A-3</td>\n",
       "      <td>MapQuest</td>\n",
       "      <td>201.0</td>\n",
       "      <td>2</td>\n",
       "      <td>2016-02-08 06:49:27</td>\n",
       "      <td>2016-02-08 07:19:27</td>\n",
       "      <td>39.063148</td>\n",
       "      <td>-84.032608</td>\n",
       "      <td>0.010</td>\n",
       "      <td>Accident on OH-32 State Route 32 Westbound at ...</td>\n",
       "      <td>...</td>\n",
       "      <td>False</td>\n",
       "      <td>False</td>\n",
       "      <td>False</td>\n",
       "      <td>True</td>\n",
       "      <td>False</td>\n",
       "      <td>Night</td>\n",
       "      <td>Night</td>\n",
       "      <td>Day</td>\n",
       "      <td>Day</td>\n",
       "      <td>2016</td>\n",
       "    </tr>\n",
       "    <tr>\n",
       "      <th>3</th>\n",
       "      <td>A-4</td>\n",
       "      <td>MapQuest</td>\n",
       "      <td>201.0</td>\n",
       "      <td>3</td>\n",
       "      <td>2016-02-08 07:23:34</td>\n",
       "      <td>2016-02-08 07:53:34</td>\n",
       "      <td>39.747753</td>\n",
       "      <td>-84.205582</td>\n",
       "      <td>0.010</td>\n",
       "      <td>Accident on I-75 Southbound at Exits 52 52B US...</td>\n",
       "      <td>...</td>\n",
       "      <td>False</td>\n",
       "      <td>False</td>\n",
       "      <td>False</td>\n",
       "      <td>False</td>\n",
       "      <td>False</td>\n",
       "      <td>Night</td>\n",
       "      <td>Day</td>\n",
       "      <td>Day</td>\n",
       "      <td>Day</td>\n",
       "      <td>2016</td>\n",
       "    </tr>\n",
       "    <tr>\n",
       "      <th>4</th>\n",
       "      <td>A-5</td>\n",
       "      <td>MapQuest</td>\n",
       "      <td>201.0</td>\n",
       "      <td>2</td>\n",
       "      <td>2016-02-08 07:39:07</td>\n",
       "      <td>2016-02-08 08:09:07</td>\n",
       "      <td>39.627781</td>\n",
       "      <td>-84.188354</td>\n",
       "      <td>0.010</td>\n",
       "      <td>Accident on McEwen Rd at OH-725 Miamisburg Cen...</td>\n",
       "      <td>...</td>\n",
       "      <td>False</td>\n",
       "      <td>False</td>\n",
       "      <td>False</td>\n",
       "      <td>True</td>\n",
       "      <td>False</td>\n",
       "      <td>Day</td>\n",
       "      <td>Day</td>\n",
       "      <td>Day</td>\n",
       "      <td>Day</td>\n",
       "      <td>2016</td>\n",
       "    </tr>\n",
       "    <tr>\n",
       "      <th>...</th>\n",
       "      <td>...</td>\n",
       "      <td>...</td>\n",
       "      <td>...</td>\n",
       "      <td>...</td>\n",
       "      <td>...</td>\n",
       "      <td>...</td>\n",
       "      <td>...</td>\n",
       "      <td>...</td>\n",
       "      <td>...</td>\n",
       "      <td>...</td>\n",
       "      <td>...</td>\n",
       "      <td>...</td>\n",
       "      <td>...</td>\n",
       "      <td>...</td>\n",
       "      <td>...</td>\n",
       "      <td>...</td>\n",
       "      <td>...</td>\n",
       "      <td>...</td>\n",
       "      <td>...</td>\n",
       "      <td>...</td>\n",
       "      <td>...</td>\n",
       "    </tr>\n",
       "    <tr>\n",
       "      <th>2974330</th>\n",
       "      <td>A-2974354</td>\n",
       "      <td>Bing</td>\n",
       "      <td>NaN</td>\n",
       "      <td>2</td>\n",
       "      <td>2019-08-23 18:03:25</td>\n",
       "      <td>2019-08-23 18:32:01</td>\n",
       "      <td>34.002480</td>\n",
       "      <td>-117.379360</td>\n",
       "      <td>0.543</td>\n",
       "      <td>At Market St - Accident.</td>\n",
       "      <td>...</td>\n",
       "      <td>False</td>\n",
       "      <td>False</td>\n",
       "      <td>False</td>\n",
       "      <td>False</td>\n",
       "      <td>False</td>\n",
       "      <td>Day</td>\n",
       "      <td>Day</td>\n",
       "      <td>Day</td>\n",
       "      <td>Day</td>\n",
       "      <td>2019</td>\n",
       "    </tr>\n",
       "    <tr>\n",
       "      <th>2974331</th>\n",
       "      <td>A-2974355</td>\n",
       "      <td>Bing</td>\n",
       "      <td>NaN</td>\n",
       "      <td>2</td>\n",
       "      <td>2019-08-23 19:11:30</td>\n",
       "      <td>2019-08-23 19:38:23</td>\n",
       "      <td>32.766960</td>\n",
       "      <td>-117.148060</td>\n",
       "      <td>0.338</td>\n",
       "      <td>At Camino Del Rio/Mission Center Rd - Accident.</td>\n",
       "      <td>...</td>\n",
       "      <td>False</td>\n",
       "      <td>False</td>\n",
       "      <td>False</td>\n",
       "      <td>False</td>\n",
       "      <td>False</td>\n",
       "      <td>Day</td>\n",
       "      <td>Day</td>\n",
       "      <td>Day</td>\n",
       "      <td>Day</td>\n",
       "      <td>2019</td>\n",
       "    </tr>\n",
       "    <tr>\n",
       "      <th>2974332</th>\n",
       "      <td>A-2974356</td>\n",
       "      <td>Bing</td>\n",
       "      <td>NaN</td>\n",
       "      <td>2</td>\n",
       "      <td>2019-08-23 19:00:21</td>\n",
       "      <td>2019-08-23 19:28:49</td>\n",
       "      <td>33.775450</td>\n",
       "      <td>-117.847790</td>\n",
       "      <td>0.561</td>\n",
       "      <td>At Glassell St/Grand Ave - Accident. in the ri...</td>\n",
       "      <td>...</td>\n",
       "      <td>False</td>\n",
       "      <td>False</td>\n",
       "      <td>False</td>\n",
       "      <td>False</td>\n",
       "      <td>False</td>\n",
       "      <td>Day</td>\n",
       "      <td>Day</td>\n",
       "      <td>Day</td>\n",
       "      <td>Day</td>\n",
       "      <td>2019</td>\n",
       "    </tr>\n",
       "    <tr>\n",
       "      <th>2974333</th>\n",
       "      <td>A-2974357</td>\n",
       "      <td>Bing</td>\n",
       "      <td>NaN</td>\n",
       "      <td>2</td>\n",
       "      <td>2019-08-23 19:00:21</td>\n",
       "      <td>2019-08-23 19:29:42</td>\n",
       "      <td>33.992460</td>\n",
       "      <td>-118.403020</td>\n",
       "      <td>0.772</td>\n",
       "      <td>At CA-90/Marina Fwy/Jefferson Blvd - Accident.</td>\n",
       "      <td>...</td>\n",
       "      <td>False</td>\n",
       "      <td>False</td>\n",
       "      <td>False</td>\n",
       "      <td>False</td>\n",
       "      <td>False</td>\n",
       "      <td>Day</td>\n",
       "      <td>Day</td>\n",
       "      <td>Day</td>\n",
       "      <td>Day</td>\n",
       "      <td>2019</td>\n",
       "    </tr>\n",
       "    <tr>\n",
       "      <th>2974334</th>\n",
       "      <td>A-2974358</td>\n",
       "      <td>Bing</td>\n",
       "      <td>NaN</td>\n",
       "      <td>2</td>\n",
       "      <td>2019-08-23 18:52:06</td>\n",
       "      <td>2019-08-23 19:21:31</td>\n",
       "      <td>34.133930</td>\n",
       "      <td>-117.230920</td>\n",
       "      <td>0.537</td>\n",
       "      <td>At Highland Ave/Arden Ave - Accident.</td>\n",
       "      <td>...</td>\n",
       "      <td>False</td>\n",
       "      <td>False</td>\n",
       "      <td>False</td>\n",
       "      <td>False</td>\n",
       "      <td>False</td>\n",
       "      <td>Day</td>\n",
       "      <td>Day</td>\n",
       "      <td>Day</td>\n",
       "      <td>Day</td>\n",
       "      <td>2019</td>\n",
       "    </tr>\n",
       "  </tbody>\n",
       "</table>\n",
       "<p>2974335 rows × 45 columns</p>\n",
       "</div>"
      ],
      "text/plain": [
       "                ID    Source    TMC  Severity          Start_Time  \\\n",
       "0              A-1  MapQuest  201.0         3 2016-02-08 05:46:00   \n",
       "1              A-2  MapQuest  201.0         2 2016-02-08 06:07:59   \n",
       "2              A-3  MapQuest  201.0         2 2016-02-08 06:49:27   \n",
       "3              A-4  MapQuest  201.0         3 2016-02-08 07:23:34   \n",
       "4              A-5  MapQuest  201.0         2 2016-02-08 07:39:07   \n",
       "...            ...       ...    ...       ...                 ...   \n",
       "2974330  A-2974354      Bing    NaN         2 2019-08-23 18:03:25   \n",
       "2974331  A-2974355      Bing    NaN         2 2019-08-23 19:11:30   \n",
       "2974332  A-2974356      Bing    NaN         2 2019-08-23 19:00:21   \n",
       "2974333  A-2974357      Bing    NaN         2 2019-08-23 19:00:21   \n",
       "2974334  A-2974358      Bing    NaN         2 2019-08-23 18:52:06   \n",
       "\n",
       "                   End_Time  Start_Lat   Start_Lng  Distance(mi)  \\\n",
       "0       2016-02-08 11:00:00  39.865147  -84.058723         0.010   \n",
       "1       2016-02-08 06:37:59  39.928059  -82.831184         0.010   \n",
       "2       2016-02-08 07:19:27  39.063148  -84.032608         0.010   \n",
       "3       2016-02-08 07:53:34  39.747753  -84.205582         0.010   \n",
       "4       2016-02-08 08:09:07  39.627781  -84.188354         0.010   \n",
       "...                     ...        ...         ...           ...   \n",
       "2974330 2019-08-23 18:32:01  34.002480 -117.379360         0.543   \n",
       "2974331 2019-08-23 19:38:23  32.766960 -117.148060         0.338   \n",
       "2974332 2019-08-23 19:28:49  33.775450 -117.847790         0.561   \n",
       "2974333 2019-08-23 19:29:42  33.992460 -118.403020         0.772   \n",
       "2974334 2019-08-23 19:21:31  34.133930 -117.230920         0.537   \n",
       "\n",
       "                                               Description  ... Station  \\\n",
       "0        Right lane blocked due to accident on I-70 Eas...  ...   False   \n",
       "1        Accident on Brice Rd at Tussing Rd. Expect del...  ...   False   \n",
       "2        Accident on OH-32 State Route 32 Westbound at ...  ...   False   \n",
       "3        Accident on I-75 Southbound at Exits 52 52B US...  ...   False   \n",
       "4        Accident on McEwen Rd at OH-725 Miamisburg Cen...  ...   False   \n",
       "...                                                    ...  ...     ...   \n",
       "2974330                           At Market St - Accident.  ...   False   \n",
       "2974331    At Camino Del Rio/Mission Center Rd - Accident.  ...   False   \n",
       "2974332  At Glassell St/Grand Ave - Accident. in the ri...  ...   False   \n",
       "2974333     At CA-90/Marina Fwy/Jefferson Blvd - Accident.  ...   False   \n",
       "2974334              At Highland Ave/Arden Ave - Accident.  ...   False   \n",
       "\n",
       "          Stop Traffic_Calming Traffic_Signal Turning_Loop Sunrise_Sunset  \\\n",
       "0        False           False          False        False          Night   \n",
       "1        False           False          False        False          Night   \n",
       "2        False           False           True        False          Night   \n",
       "3        False           False          False        False          Night   \n",
       "4        False           False           True        False            Day   \n",
       "...        ...             ...            ...          ...            ...   \n",
       "2974330  False           False          False        False            Day   \n",
       "2974331  False           False          False        False            Day   \n",
       "2974332  False           False          False        False            Day   \n",
       "2974333  False           False          False        False            Day   \n",
       "2974334  False           False          False        False            Day   \n",
       "\n",
       "        Civil_Twilight Nautical_Twilight Astronomical_Twilight  Year  \n",
       "0                Night             Night                 Night  2016  \n",
       "1                Night             Night                   Day  2016  \n",
       "2                Night               Day                   Day  2016  \n",
       "3                  Day               Day                   Day  2016  \n",
       "4                  Day               Day                   Day  2016  \n",
       "...                ...               ...                   ...   ...  \n",
       "2974330            Day               Day                   Day  2019  \n",
       "2974331            Day               Day                   Day  2019  \n",
       "2974332            Day               Day                   Day  2019  \n",
       "2974333            Day               Day                   Day  2019  \n",
       "2974334            Day               Day                   Day  2019  \n",
       "\n",
       "[2974335 rows x 45 columns]"
      ]
     },
     "execution_count": 133,
     "metadata": {},
     "output_type": "execute_result"
    }
   ],
   "source": [
    "import datetime\n",
    "df_years = accidents_df['Start_Time'].dt.year\n",
    "accidents_df[\"Year\"] = df_years  #adding a year column to be able to use it in filtering\n",
    "accidents_df"
   ]
  },
  {
   "cell_type": "code",
   "execution_count": 187,
   "id": "b699f944-757a-47e1-88f2-4f4ee237ee79",
   "metadata": {},
   "outputs": [
    {
     "name": "stdout",
     "output_type": "stream",
     "text": [
      "Year  City         \n",
      "2015  Toledo            1\n",
      "2016  Abbeville        32\n",
      "      Abbotsford        1\n",
      "      Abbott            5\n",
      "      Abbottstown      11\n",
      "                       ..\n",
      "2020  Detroit           2\n",
      "      Irvington         1\n",
      "      Louisville        1\n",
      "      Mechanicville     1\n",
      "      Suitland          1\n",
      "Name: ID, Length: 34200, dtype: int64\n"
     ]
    }
   ],
   "source": [
    "#Find the average number of yearly accidents per city\n",
    "yearly_accidents_per_city=accidents_df[accidents_df['Year'] < 2021].groupby(['Year','City'])['ID'].count()\n",
    "print (yearly_accidents_per_city)"
   ]
  },
  {
   "cell_type": "code",
   "execution_count": 190,
   "id": "32de7e69-4a42-42d4-9df1-09e7b53fc74f",
   "metadata": {},
   "outputs": [
    {
     "data": {
      "text/plain": [
       "0          2016-02-08\n",
       "1          2016-02-08\n",
       "2          2016-02-08\n",
       "3          2016-02-08\n",
       "4          2016-02-08\n",
       "              ...    \n",
       "2974330    2019-08-23\n",
       "2974331    2019-08-23\n",
       "2974332    2019-08-23\n",
       "2974333    2019-08-23\n",
       "2974334    2019-08-23\n",
       "Name: Date, Length: 2974335, dtype: object"
      ]
     },
     "execution_count": 190,
     "metadata": {},
     "output_type": "execute_result"
    }
   ],
   "source": [
    "#Adding column \"Date\" for the purpose of visualization\n",
    "import datetime\n",
    "df_date = accidents_df['Start_Time'].dt.date\n",
    "accidents_df[\"Date\"] = df_date  #adding a year column to be able to use it in filtering\n",
    "accidents_df[\"Date\"]"
   ]
  },
  {
   "cell_type": "code",
   "execution_count": 253,
   "id": "ce9cab08",
   "metadata": {},
   "outputs": [],
   "source": [
    "import seaborn as sns\n",
    "import matplotlib.pyplot as plt"
   ]
  },
  {
   "cell_type": "code",
   "execution_count": 216,
   "id": "11b6fe75",
   "metadata": {},
   "outputs": [
    {
     "data": {
      "text/plain": [
       "<AxesSubplot:>"
      ]
     },
     "execution_count": 216,
     "metadata": {},
     "output_type": "execute_result"
    },
    {
     "data": {
      "image/png": "[encoded data removed]",
      "text/plain": [
       "<Figure size 432x288 with 1 Axes>"
      ]
     },
     "metadata": {
      "needs_background": "light"
     },
     "output_type": "display_data"
    }
   ],
   "source": [
    "#plot the states by accidents\n",
    "states_by_accident [:10].plot(kind = 'barh')"
   ]
  },
  {
   "cell_type": "code",
   "execution_count": 256,
   "id": "56b6802c-ce93-4996-9698-963ec77ef5c5",
   "metadata": {},
   "outputs": [
    {
     "data": {
      "text/plain": [
       "Houston                         93289\n",
       "Charlotte                       68054\n",
       "Los Angeles                     65851\n",
       "Austin                          58703\n",
       "Dallas                          58036\n",
       "                                ...  \n",
       "Amherst Junction                    1\n",
       "Miller                              1\n",
       "Glenwood Landing                    1\n",
       "New Roads                           1\n",
       "American Fork-Pleasant Grove        1\n",
       "Name: City, Length: 11685, dtype: int64"
      ]
     },
     "execution_count": 256,
     "metadata": {},
     "output_type": "execute_result"
    }
   ],
   "source": [
    "#pull out the column\n",
    "accidents_df.City  \n",
    "\n",
    "#look at the unique values of the column\n",
    "accidents_df.City.unique()\n",
    "\n",
    "yearly_accidents_per_city = accidents_df.City.value_counts()\n",
    "yearly_accidents_per_city"
   ]
  },
  {
   "cell_type": "code",
   "execution_count": 257,
   "id": "7494d4f9-aeff-4686-bf96-d76bcae484af",
   "metadata": {},
   "outputs": [
    {
     "data": {
      "text/plain": [
       "<AxesSubplot:>"
      ]
     },
     "execution_count": 257,
     "metadata": {},
     "output_type": "execute_result"
    },
    {
     "data": {
      "image/png": "[encoded data removed]",
      "text/plain": [
       "<Figure size 432x288 with 1 Axes>"
      ]
     },
     "metadata": {
      "needs_background": "light"
     },
     "output_type": "display_data"
    }
   ],
   "source": [
    "yearly_accidents_per_city[:20].plot(kind = 'barh')"
   ]
  },
  {
   "cell_type": "code",
   "execution_count": 260,
   "id": "fedcf72b-8fc2-4ef7-94e2-a986fb83f36a",
   "metadata": {},
   "outputs": [
    {
     "data": {
      "text/plain": [
       "0.04278990158322636"
      ]
     },
     "execution_count": 260,
     "metadata": {},
     "output_type": "execute_result"
    }
   ],
   "source": [
    "high_accident_cities = yearly_accidents_per_city[yearly_accidents_per_city >= 1000]\n",
    "low_accident_cities = yearly_accidents_per_city[yearly_accidents_per_city < 1000]\n",
    "len(high_accident_cities)/len(yearly_accidents_per_city)"
   ]
  },
  {
   "cell_type": "code",
   "execution_count": 221,
   "id": "8bac4be6-0fb5-4ac5-8ca6-1abce671704e",
   "metadata": {},
   "outputs": [
    {
     "name": "stderr",
     "output_type": "stream",
     "text": [
      "C:\\Users\\User\\anaconda3\\lib\\site-packages\\seaborn\\distributions.py:2619: FutureWarning: `distplot` is a deprecated function and will be removed in a future version. Please adapt your code to use either `displot` (a figure-level function with similar flexibility) or `histplot` (an axes-level function for histograms).\n",
      "  warnings.warn(msg, FutureWarning)\n"
     ]
    },
    {
     "data": {
      "text/plain": [
       "<AxesSubplot:xlabel='Start_Time'>"
      ]
     },
     "execution_count": 221,
     "metadata": {},
     "output_type": "execute_result"
    },
    {
     "data": {
      "image/png": "[encoded data removed]",
      "text/plain": [
       "<Figure size 432x288 with 1 Axes>"
      ]
     },
     "metadata": {
      "needs_background": "light"
     },
     "output_type": "display_data"
    }
   ],
   "source": [
    "#plot the distribution (by hours)\n",
    "sns.distplot(df.Start_Time.dt.hour, bins = 24, kde=False, norm_hist=True)"
   ]
  },
  {
   "cell_type": "code",
   "execution_count": 222,
   "id": "c0c24e3c-24bf-4ff5-a433-3f8d82aaafb1",
   "metadata": {},
   "outputs": [
    {
     "data": {
      "text/plain": [
       "<AxesSubplot:xlabel='Start_Time'>"
      ]
     },
     "execution_count": 222,
     "metadata": {},
     "output_type": "execute_result"
    },
    {
     "data": {
      "image/png": "[encoded data removed]",
      "text/plain": [
       "<Figure size 432x288 with 1 Axes>"
      ]
     },
     "metadata": {
      "needs_background": "light"
     },
     "output_type": "display_data"
    }
   ],
   "source": [
    "#plot for months\n",
    "sns.distplot(df.Start_Time.dt.month, bins = 12, kde=False, norm_hist=True)"
   ]
  },
  {
   "cell_type": "code",
   "execution_count": 223,
   "id": "4a702ddf-f46d-4821-8881-bb201d709767",
   "metadata": {},
   "outputs": [
    {
     "name": "stderr",
     "output_type": "stream",
     "text": [
      "C:\\Users\\User\\anaconda3\\lib\\site-packages\\seaborn\\_decorators.py:36: FutureWarning: Pass the following variable as a keyword arg: x. From version 0.12, the only valid positional argument will be `data`, and passing other arguments without an explicit keyword will result in an error or misinterpretation.\n",
      "  warnings.warn(\n"
     ]
    },
    {
     "data": {
      "text/plain": [
       "<AxesSubplot:xlabel='Temperature(F)'>"
      ]
     },
     "execution_count": 223,
     "metadata": {},
     "output_type": "execute_result"
    },
    {
     "data": {
      "image/png": "[encoded data removed]",
      "text/plain": [
       "<Figure size 432x288 with 1 Axes>"
      ]
     },
     "metadata": {
      "needs_background": "light"
     },
     "output_type": "display_data"
    }
   ],
   "source": [
    "#by temperature (in °F)\n",
    "accidents_df['Temperature(F)'].value_counts()\n",
    "sns.boxenplot(accidents_df['Temperature(F)'])"
   ]
  },
  {
   "cell_type": "code",
   "execution_count": 226,
   "id": "4ce4424b-33fb-49c5-8c9f-b7662abacce4",
   "metadata": {},
   "outputs": [
    {
     "data": {
      "text/plain": [
       "Clear                        808171\n",
       "Mostly Cloudy                412528\n",
       "Overcast                     382480\n",
       "Fair                         335289\n",
       "Partly Cloudy                295439\n",
       "                              ...  \n",
       "Snow and Thunder                  1\n",
       "Widespread Dust / Windy           1\n",
       "Light Snow Shower                 1\n",
       "Light Rain Shower / Windy         1\n",
       "Thunder and Hail / Windy          1\n",
       "Name: Weather_Condition, Length: 120, dtype: int64"
      ]
     },
     "execution_count": 226,
     "metadata": {},
     "output_type": "execute_result"
    }
   ],
   "source": [
    "accidents_df.Weather_Condition.value_counts()"
   ]
  },
  {
   "cell_type": "code",
   "execution_count": 233,
   "id": "041bc95f-43b4-441b-9c36-9bc380af785d",
   "metadata": {},
   "outputs": [
    {
     "data": {
      "text/plain": [
       "<AxesSubplot:xlabel='Visibility(mi)', ylabel='Count'>"
      ]
     },
     "execution_count": 233,
     "metadata": {},
     "output_type": "execute_result"
    },
    {
     "data": {
      "image/png": "[encoded data removed]",
      "text/plain": [
       "<Figure size 432x288 with 1 Axes>"
      ]
     },
     "metadata": {
      "needs_background": "light"
     },
     "output_type": "display_data"
    }
   ],
   "source": [
    "sns.histplot(accidents_df['Visibility(mi)'].value_counts(), bins= 5, kde=True, log_scale=True)"
   ]
  },
  {
   "cell_type": "code",
   "execution_count": 234,
   "id": "affe1fab-6134-4d81-a5b0-c71e409e1e21",
   "metadata": {},
   "outputs": [
    {
     "data": {
      "text/plain": [
       "<AxesSubplot:ylabel='Crossing'>"
      ]
     },
     "execution_count": 234,
     "metadata": {},
     "output_type": "execute_result"
    },
    {
     "data": {
      "image/png": "[encoded data removed]",
      "text/plain": [
       "<Figure size 432x288 with 1 Axes>"
      ]
     },
     "metadata": {},
     "output_type": "display_data"
    }
   ],
   "source": [
    "accidents_df['Crossing'].value_counts().plot(kind= 'pie')"
   ]
  },
  {
   "cell_type": "code",
   "execution_count": 251,
   "id": "2a8f74d7-55f0-4f29-965b-e9133048f88d",
   "metadata": {},
   "outputs": [
    {
     "data": {
      "text/plain": [
       "<AxesSubplot:ylabel='Traffic_Signal'>"
      ]
     },
     "execution_count": 251,
     "metadata": {},
     "output_type": "execute_result"
    },
    {
     "data": {
      "image/png": "[encoded data removed]",
      "text/plain": [
       "<Figure size 432x288 with 1 Axes>"
      ]
     },
     "metadata": {},
     "output_type": "display_data"
    }
   ],
   "source": [
    "accidents_df['Traffic_Signal'].value_counts().plot(kind='pie')"
   ]
  },
  {
   "cell_type": "code",
   "execution_count": 252,
   "id": "f9a5a35b-bd96-4db2-990d-b07c4bb8bde0",
   "metadata": {},
   "outputs": [
    {
     "data": {
      "text/plain": [
       "<AxesSubplot:ylabel='Bump'>"
      ]
     },
     "execution_count": 252,
     "metadata": {},
     "output_type": "execute_result"
    },
    {
     "data": {
      "image/png": "[encoded data removed]",
      "text/plain": [
       "<Figure size 432x288 with 1 Axes>"
      ]
     },
     "metadata": {},
     "output_type": "display_data"
    }
   ],
   "source": [
    "accidents_df['Bump'].value_counts().plot(kind='pie')"
   ]
  },
  {
   "cell_type": "markdown",
   "id": "91028c0e-0de3-4515-a977-28c368aba315",
   "metadata": {},
   "source": [
    "### Insights and Conclusion"
   ]
  },
  {
   "cell_type": "markdown",
   "id": "c19f9b65-d254-48e8-909b-34de5ddccb07",
   "metadata": {},
   "source": [
    "The project analyzed various parameters on accident occurrence and the following insights have been found upon drilling the above parameters:\n",
    "- The top 3 states by accidents include populous ones like California, Texas, and Florida.\n",
    "- Less than 5% (~ 4.27%) of cities have more than 1000 accidents in the period between January 2016 and December 2020.\n",
    "- The highest peak during the day is the time when the most accidents have occured, when people are usually goint to work and are back from work.\n",
    "- In the last quarter most of the accidents have been occured.\n",
    "  The weather conditions seem to be “Clear\", \"Mostly Cloudy\" and \"Overcast” in most cases. \n",
    "- Most accidents happened away from the main crossing where there was inadequate or absence of traffic management infrastructures like traffic signaling systems and speed bumps."
   ]
  },
  {
   "cell_type": "code",
   "execution_count": null,
   "id": "07e85e55-46c2-4fe3-a73b-5624f2eaab49",
   "metadata": {},
   "outputs": [],
   "source": []
  }
 ],
 "metadata": {
  "kernelspec": {
   "display_name": "Python 3 (ipykernel)",
   "language": "python",
   "name": "python3"
  },
  "language_info": {
   "codemirror_mode": {
    "name": "ipython",
    "version": 3
   },
   "file_extension": ".py",
   "mimetype": "text/x-python",
   "name": "python",
   "nbconvert_exporter": "python",
   "pygments_lexer": "ipython3",
   "version": "3.9.13"
  }
 },
 "nbformat": 4,
 "nbformat_minor": 5
}
